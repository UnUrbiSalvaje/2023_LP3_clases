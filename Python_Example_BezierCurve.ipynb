{
  "cells": [
    {
      "cell_type": "markdown",
      "metadata": {
        "id": "view-in-github",
        "colab_type": "text"
      },
      "source": [
        "<a href=\"https://colab.research.google.com/github/UnUrbiSalvaje/2023_LP3_clases/blob/main/Python_Example_BezierCurve.ipynb\" target=\"_parent\"><img src=\"https://colab.research.google.com/assets/colab-badge.svg\" alt=\"Open In Colab\"/></a>"
      ]
    },
    {
      "cell_type": "markdown",
      "source": [
        "<center><h1><b>Python Example: Bézier Curve: Quadratic with One Control Point</h1></b>\n",
        "\n",
        "Dr. Bingsen Wang\n",
        "\n",
        "5/2/2023\n",
        "</center>"
      ],
      "metadata": {
        "id": "jAMKoELNpsK-"
      }
    },
    {
      "cell_type": "markdown",
      "source": [
        "#Introduction\n",
        "\n",
        "You may read more detailed information about Bézier curve on this [Wikipedia page](https://en.wikipedia.org/wiki/B%C3%A9zier_curve)"
      ],
      "metadata": {
        "id": "S4WYVXpVnOrh"
      }
    },
    {
      "cell_type": "markdown",
      "source": [
        "#Python Code\n",
        "The Python code illustrates quadratic Bezeier curve with one control point."
      ],
      "metadata": {
        "id": "Hv0YxDrWU4h8"
      }
    },
    {
      "cell_type": "code",
      "source": [
        "import numpy as np\n",
        "import matplotlib.pyplot as plt\n",
        "import matplotlib.patches as mp\n",
        "from matplotlib.path import Path\n",
        "from matplotlib import animation,rc,transforms\n",
        "rc('animation', html='jshtml')\n",
        "plt.rcParams.update({\"font.family\" : \"serif\",\"mathtext.fontset\" : \"cm\"})\n",
        "\n",
        "#prameters\n",
        "Nfpp=100\n",
        "Nf = 3*Nfpp #number of animation frames\n",
        "theta = np.linspace(0,360,Nf) #angle to rotate\n",
        "alpha=np.concatenate((np.linspace(0,np.pi/2,int(Nf/2)),np.linspace(np.pi/2,0,int(Nf/2))))\n",
        "cls = ['r','lightgreen','b','c','yellow','orange','m','maroon','darkgreen','lightblue','pink','crimson','teal']\n",
        "x=np.linspace(0,1,Nfpp)\n",
        "fig = plt.figure(figsize=(9,16))\n",
        "ax1=fig.add_axes((1/18,0,8/9,0.5),   xlim=[0,1], ylim=[-1,1])\n",
        "ax2=fig.add_axes((1/18,0.5,8/9,0.5), xlim=[0,1], ylim=[-1,1])\n",
        "fig.tight_layout()\n",
        "ax1.axis('off')\n",
        "ax2.axis('off')\n",
        "P0 = (0.25,0)\n",
        "P2= (0.75,0)\n",
        "# ax2.add_patch(mp.PathPatch(Path([P0,P1,P2],[Path.MOVETO,Path.CURVE3,Path.CURVE3]),fc='none',ec='b',lw=4))\n",
        "\n",
        "def animate(i): # animation function.  This is called sequentially\n",
        "  k=int(i/Nfpp)\n",
        "  i=i%Nfpp\n",
        "  ax1.clear()\n",
        "  ax2.clear()\n",
        "  if k==0:\n",
        "    P1=(x[i],0.85)\n",
        "    ax2.add_patch(mp.PathPatch(Path([P0,P1,P2],[Path.MOVETO,Path.CURVE3,Path.CURVE3]),fc='none',ec='b',lw=4))\n",
        "    ax1.add_patch(mp.PathPatch(Path([P0,P1,P2],[Path.MOVETO,Path.CURVE3,Path.CURVE3]),fc='none',ec='b',lw=4))\n",
        "    ax1.plot([P0[0],P1[0],P2[0]],[P0[1],P1[1],P2[1]],'k--x',markersize=10)\n",
        "  elif k==1:\n",
        "    P1=(x[i],-0.85)\n",
        "    ax2.add_patch(mp.PathPatch(Path([P0,P1,P2],[Path.MOVETO,Path.CURVE3,Path.CURVE3]),fc='none',ec='r',lw=4))\n",
        "    ax1.add_patch(mp.PathPatch(Path([P0,P1,P2],[Path.MOVETO,Path.CURVE3,Path.CURVE3]),fc='none',ec='r',lw=4))\n",
        "    ax1.plot([P0[0],P1[0],P2[0]],[P0[1],P1[1],P2[1]],'k--x',markersize=10)\n",
        "  else:\n",
        "    P1=(0.5,x[i]*2-1)\n",
        "    ax2.add_patch(mp.PathPatch(Path([P0,P1,P2],[Path.MOVETO,Path.CURVE3,Path.CURVE3]),fc='none',ec='g',lw=4))\n",
        "    ax1.add_patch(mp.PathPatch(Path([P0,P1,P2],[Path.MOVETO,Path.CURVE3,Path.CURVE3]),fc='none',ec='g',lw=4))\n",
        "    ax1.plot([P0[0],P1[0],P2[0]],[P0[1],P1[1],P2[1]],'k--x',markersize=10)\n",
        "  ax1.axis('off')\n",
        "  ax1.set_xlim(0,1)\n",
        "  ax1.set_ylim(-1,1)\n",
        "  ax2.axis('off')\n",
        "  ax2.set_xlim(0,1)\n",
        "  ax2.set_ylim(-1,1)\n",
        "  ax2.text(0.5,0.8,'Quadratic Bézier Curve',size=22,ha='center')\n",
        "  ax1.text(0.5,0.9,'Quadratic Bézier Curve with Control Point Shown',size=22,ha='center')\n",
        "  return\n",
        "\n",
        "anim = animation.FuncAnimation(fig, animate, frames=Nf, interval=50)\n",
        "# anim #uncomment to generate animation in the output area\n",
        "# to save the animation, uncomment the following three lines\n",
        "fn = r\"BezierCurveQuadratic.mp4\"\n",
        "writervideo = animation.FFMpegWriter(fps=50) #save the video at 50 frames per sec\n",
        "anim.save(fn, writer=writervideo,dpi = 120)"
      ],
      "metadata": {
        "id": "XeGsHYTt8IXU",
        "colab": {
          "base_uri": "https://localhost:8080/"
        },
        "outputId": "4f43205c-7732-400b-c710-bf0a12ba1ad3"
      },
      "execution_count": null,
      "outputs": [
        {
          "output_type": "stream",
          "name": "stderr",
          "text": [
            "<ipython-input-2-f88f22da3002>:19: UserWarning: This figure includes Axes that are not compatible with tight_layout, so results might be incorrect.\n",
            "  fig.tight_layout()\n"
          ]
        }
      ]
    }
  ],
  "metadata": {
    "colab": {
      "provenance": [],
      "include_colab_link": true
    },
    "kernelspec": {
      "display_name": "Python 3",
      "name": "python3"
    }
  },
  "nbformat": 4,
  "nbformat_minor": 0
}